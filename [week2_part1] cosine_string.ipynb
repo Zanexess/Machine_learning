{
 "cells": [
  {
   "cell_type": "code",
   "execution_count": 270,
   "metadata": {
    "collapsed": true
   },
   "outputs": [],
   "source": [
    "import re"
   ]
  },
  {
   "cell_type": "code",
   "execution_count": 271,
   "metadata": {
    "collapsed": false
   },
   "outputs": [],
   "source": [
    "all_words = []\n",
    "n = -1\n",
    "with open(\"sentences.txt\", 'r') as data_raw:\n",
    "    for line in data_raw:\n",
    "        a = re.split(\"[^a-z]\", line.lower())\n",
    "        somelist = [i for j, i in enumerate(a) if i != '']\n",
    "        n += 1\n",
    "        for i in somelist:\n",
    "            all_words.append(i) "
   ]
  },
  {
   "cell_type": "code",
   "execution_count": 272,
   "metadata": {
    "collapsed": false
   },
   "outputs": [],
   "source": [
    "dict_words = {}\n",
    "index = 0\n",
    "for i in all_words:\n",
    "    if i not in dict_words:\n",
    "        dict_words[i] = index\n",
    "        index += 1"
   ]
  },
  {
   "cell_type": "code",
   "execution_count": 273,
   "metadata": {
    "collapsed": true
   },
   "outputs": [],
   "source": [
    "import numpy as np"
   ]
  },
  {
   "cell_type": "code",
   "execution_count": 274,
   "metadata": {
    "collapsed": false
   },
   "outputs": [],
   "source": [
    "m = max(dict_words.values())"
   ]
  },
  {
   "cell_type": "code",
   "execution_count": 275,
   "metadata": {
    "collapsed": false
   },
   "outputs": [],
   "source": [
    "data = np.zeros((n + 1, m + 1))"
   ]
  },
  {
   "cell_type": "code",
   "execution_count": 276,
   "metadata": {
    "collapsed": false
   },
   "outputs": [],
   "source": [
    "n = -1\n",
    "with open(\"sentences.txt\", 'r') as data_raw:\n",
    "    for line in data_raw:\n",
    "        a = re.split(\"[^a-z]\", line.lower())\n",
    "        somelist = [i for j, i in enumerate(a) if i != '']\n",
    "        n += 1\n",
    "        for word in somelist:\n",
    "            if word in dict_words:\n",
    "                data[n, dict_words[word]] += 1"
   ]
  },
  {
   "cell_type": "code",
   "execution_count": 277,
   "metadata": {
    "collapsed": false
   },
   "outputs": [
    {
     "name": "stdout",
     "output_type": "stream",
     "text": [
      "[0.95275444087384664, 0.86447381456421235, 0.89517151632780823, 0.77708871496985887, 0.94023856953328033, 0.7327387580875756, 0.92587506833388988, 0.88427248752843102, 0.90550888174769317, 0.83281653622739416, 0.88047713906656067, 0.83964325485254543, 0.87035925528956715, 0.87401184233025764, 0.94427217874246472, 0.84063618542208085, 0.95664450152379399, 0.94427217874246472, 0.88854435748492944, 0.84275727449171223, 0.82503644694405864]\n"
     ]
    }
   ],
   "source": [
    "print results_cosine"
   ]
  },
  {
   "cell_type": "code",
   "execution_count": 278,
   "metadata": {
    "collapsed": false
   },
   "outputs": [],
   "source": [
    "results_cosine = []\n",
    "for i in range(1, n + 1):\n",
    "    results_cosine.append(scipy.spatial.distance.cosine(data[0,], data[i,]))\n",
    "    "
   ]
  },
  {
   "cell_type": "code",
   "execution_count": 279,
   "metadata": {
    "collapsed": false
   },
   "outputs": [],
   "source": [
    "result = []\n",
    "results_cosine_backup = list(results_cosine)\n",
    "for i in range(2):\n",
    "    result.append(min(results_cosine_backup))\n",
    "    results_cosine_backup.remove(min(results_cosine_backup))"
   ]
  },
  {
   "cell_type": "code",
   "execution_count": 280,
   "metadata": {
    "collapsed": true
   },
   "outputs": [],
   "source": [
    "result_index = []"
   ]
  },
  {
   "cell_type": "code",
   "execution_count": 281,
   "metadata": {
    "collapsed": false
   },
   "outputs": [],
   "source": [
    "for i in range(2):\n",
    "    result_index.append(results_cosine.index(result[i])+1)"
   ]
  },
  {
   "cell_type": "code",
   "execution_count": 282,
   "metadata": {
    "collapsed": false
   },
   "outputs": [],
   "source": [
    "result_index.sort()"
   ]
  },
  {
   "cell_type": "code",
   "execution_count": 288,
   "metadata": {
    "collapsed": false
   },
   "outputs": [],
   "source": [
    "f = open(\"results.txt\", \"a\")\n",
    "for i in result_index:\n",
    "    f.write(str(i)+\" \")"
   ]
  },
  {
   "cell_type": "code",
   "execution_count": 289,
   "metadata": {
    "collapsed": false
   },
   "outputs": [
    {
     "name": "stdout",
     "output_type": "stream",
     "text": [
      "4 6 \n"
     ]
    }
   ],
   "source": [
    "with open(\"results.txt\", \"r\") as fil:\n",
    "    for line in fil:\n",
    "        print line"
   ]
  },
  {
   "cell_type": "code",
   "execution_count": 290,
   "metadata": {
    "collapsed": true
   },
   "outputs": [],
   "source": [
    "fil.close()\n",
    "data_raw.close()"
   ]
  }
 ],
 "metadata": {
  "kernelspec": {
   "display_name": "Python 2",
   "language": "python",
   "name": "python2"
  },
  "language_info": {
   "codemirror_mode": {
    "name": "ipython",
    "version": 2
   },
   "file_extension": ".py",
   "mimetype": "text/x-python",
   "name": "python",
   "nbconvert_exporter": "python",
   "pygments_lexer": "ipython2",
   "version": "2.7.11"
  }
 },
 "nbformat": 4,
 "nbformat_minor": 0
}
